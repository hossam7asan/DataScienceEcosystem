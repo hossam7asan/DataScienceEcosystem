{
 "cells": [
  {
   "cell_type": "markdown",
   "id": "83c6d001-cf99-438e-a744-e5376b49dbf4",
   "metadata": {},
   "source": [
    "# Data Science Tools and Ecosystem"
   ]
  },
  {
   "cell_type": "markdown",
   "id": "7b965c87-a5e0-4c17-b79f-cfacb3fb0f8b",
   "metadata": {},
   "source": [
    "## In this notebook, Data Science Tools and Ecosystem are summarized."
   ]
  },
  {
   "cell_type": "markdown",
   "id": "dfb28884-0dcf-477f-acbb-40bfea2a1d21",
   "metadata": {},
   "source": [
    "## Some of the popular languages that Data Scientists use are:\n",
    "- Python\n",
    "- R\n",
    "- SQL\n",
    "- Julia\n",
    "- Scala"
   ]
  },
  {
   "cell_type": "markdown",
   "id": "d7ad0089-62a0-44fd-850e-574e25382e73",
   "metadata": {},
   "source": [
    "## Some of the commonly used libraries used by Data Scientists include:\n",
    "\n",
    "- NumPy\n",
    "- Pandas\n",
    "- Matplotlib\n",
    "- Seaborn\n",
    "- TensorFlow"
   ]
  },
  {
   "cell_type": "markdown",
   "id": "b965d8e1-d688-4efd-a523-4b0bfbb096f0",
   "metadata": {},
   "source": [
    "| Data Science Tools |\n",
    "|--------------------|\n",
    "| Jupyter Notebook   |\n",
    "| RStudio            |\n",
    "| Apache Zeppelin    |"
   ]
  },
  {
   "cell_type": "markdown",
   "id": "05346bb5-e774-4745-9376-e55f145d6bb9",
   "metadata": {},
   "source": [
    "## Below are a few examples of evaluating arithmetic expressions in Python."
   ]
  },
  {
   "cell_type": "code",
   "execution_count": 13,
   "id": "2fe681a8-f056-4244-9fdf-a83723cea523",
   "metadata": {},
   "outputs": [
    {
     "data": {
      "text/plain": [
       "17"
      ]
     },
     "execution_count": 13,
     "metadata": {},
     "output_type": "execute_result"
    }
   ],
   "source": [
    "# This is a simple arithmetic expression to multiply then add integers\n",
    "result = (3*4) + 5\n",
    "result"
   ]
  },
  {
   "cell_type": "code",
   "execution_count": 14,
   "id": "76cde119-4973-47db-b5ee-929cc84a4427",
   "metadata": {},
   "outputs": [
    {
     "data": {
      "text/plain": [
       "3.3333333333333335"
      ]
     },
     "execution_count": 14,
     "metadata": {},
     "output_type": "execute_result"
    }
   ],
   "source": [
    "# This will convert 200 minutes to hours by dividing by 60\n",
    "minutes = 200\n",
    "hours = minutes / 60\n",
    "hours"
   ]
  },
  {
   "cell_type": "markdown",
   "id": "a4949e2c-c1ec-4c8c-8dcb-17bea7a1832b",
   "metadata": {},
   "source": [
    "**Objectives:**\n",
    "- List popular languages for Data Science.\n",
    "- List commonly used libraries for Data Science.\n",
    "- Create arithmetic expressions in Python."
   ]
  },
  {
   "cell_type": "markdown",
   "id": "dce3afed-3e7c-44a8-8ef8-590dfce6c552",
   "metadata": {},
   "source": [
    "## Author\n",
    "Hossam Hasan"
   ]
  },
  {
   "cell_type": "code",
   "execution_count": null,
   "id": "e8d03311-9b9d-4257-8ecc-a272ce7af590",
   "metadata": {},
   "outputs": [],
   "source": []
  }
 ],
 "metadata": {
  "kernelspec": {
   "display_name": "Python 3 (ipykernel)",
   "language": "python",
   "name": "python3"
  },
  "language_info": {
   "codemirror_mode": {
    "name": "ipython",
    "version": 3
   },
   "file_extension": ".py",
   "mimetype": "text/x-python",
   "name": "python",
   "nbconvert_exporter": "python",
   "pygments_lexer": "ipython3",
   "version": "3.12.7"
  }
 },
 "nbformat": 4,
 "nbformat_minor": 5
}
